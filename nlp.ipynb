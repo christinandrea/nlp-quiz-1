{
 "cells": [
  {
   "cell_type": "code",
   "execution_count": null,
   "metadata": {},
   "outputs": [],
   "source": [
    "import re,os\n",
    "import nltk\n",
    "from nltk import * \n",
    "from nltk.stem import * \n",
    "from nltk.corpus import stopwords\n",
    "from Sastrawi.Stemmer.StemmerFactory import StemmerFactory\n",
    "import matplotlib as plt\n",
    "\n",
    "dir = \"indo/\"\n",
    "listFile = os.listdir(dir)\n",
    "\n",
    "\n",
    "filedir = {}\n",
    "final = []\n",
    "stemmer = StemmerFactory()\n",
    "idn_stemmer = stemmer.create_stemmer()\n",
    "for files in listFile:\n",
    "    # name = os.path.splitext(files)\n",
    "        filedir[files] = {}\n",
    "        files = open(dir+files,'r').read().split(\"\\n\")\n",
    "\n",
    "        # lower = files.lower()\n",
    "\n",
    "        content = idn_stemmer.stem(lower)\n",
    "        final.append(content)\n",
    "    \n",
    "        stopword = set(stopwords.words(\"indonesian\"))\n",
    "\n",
    "        regex =  RegexpTokenizer('\\W+', gaps = True)\n",
    "        for words in final:\n",
    "            tokenizedWords = regex.tokenize(words)\n",
    "\n",
    "        indoToken = []\n",
    "        for words in tokenizedWords:\n",
    "            if words not in stopword:\n",
    "                indoToken.append(words)\n",
    "        wordFreq = FreqDist(indoToken)\n",
    "\n",
    "\n",
    "\n",
    "        # for terms,freq in wordFreq.most_common(25):\n",
    "        #     filedir[fileName][terms] = [freq][0]\n",
    "print(filedir)\n",
    "\n",
    "\n",
    "\n",
    "\n",
    "    "
   ]
  },
  {
   "cell_type": "code",
   "execution_count": null,
   "metadata": {},
   "outputs": [],
   "source": [
    "print(os.listdir(dir))"
   ]
  },
  {
   "cell_type": "code",
   "execution_count": null,
   "metadata": {},
   "outputs": [],
   "source": [
    "for i in listFile:\n",
    "    print(dir+i)"
   ]
  },
  {
   "cell_type": "code",
   "execution_count": 26,
   "metadata": {},
   "outputs": [],
   "source": [
    "from nltk.corpus import stopwords\n",
    "import re,os\n",
    "import nltk\n",
    "from nltk import * \n",
    "from nltk.stem import * \n",
    "from nltk.corpus import stopwords\n",
    "from Sastrawi.Stemmer.StemmerFactory import StemmerFactory\n",
    "import matplotlib as plt\n",
    "dir = \"indo/\"\n",
    "listFile = os.listdir(dir)\n",
    "\n",
    "filedir = {}\n",
    "final = []\n",
    "stemmer = StemmerFactory()\n",
    "idn_stemmer = stemmer.create_stemmer()"
   ]
  },
  {
   "cell_type": "code",
   "execution_count": 28,
   "metadata": {},
   "outputs": [
    {
     "name": "stdout",
     "output_type": "stream",
     "text": [
      "<_io.TextIOWrapper name='indo/kotonoha.txt' mode='r' encoding='UTF-8'>\n",
      "<_io.TextIOWrapper name='indo/children.txt' mode='r' encoding='UTF-8'>\n",
      "<_io.TextIOWrapper name='indo/suzume.txt' mode='r' encoding='UTF-8'>\n",
      "<_io.TextIOWrapper name='indo/weathering.txt' mode='r' encoding='UTF-8'>\n",
      "<_io.TextIOWrapper name='indo/yourname.txt' mode='r' encoding='UTF-8'>\n"
     ]
    }
   ],
   "source": [
    "emp_file = []\n",
    "clean_docs = []\n",
    "for files in listFile:\n",
    "    emp_file.append(files)\n",
    "\n",
    "    with open(dir+files,'r') as corpus:\n",
    "        print(corpus)\n",
    "        content = corpus.read()\n",
    "        content = content.lower()\n",
    "        content = idn_stemmer.stem(content)\n",
    "        clean_docs.append(content)\n",
    "        \n",
    "\n",
    "stopword = set(stopwords.words(\"indonesian\"))\n",
    "indoToken = []\n",
    "\n",
    "        \n",
    "\n",
    "    \n",
    "#     emp_file.append(fileOpen)\n",
    "#     clean_docs.append(emp_file)\n",
    "# # print(emp_file)\n",
    "# print(clean_docs)\n",
    "# for i in clean_docs:\n",
    "#     print(i,\"\\n\")\n",
    "    # for i in emp_file:\n",
    "    #     print(i)\n",
    "    #     stemming = idn_stemmer.stem(str.lower(i))\n",
    "    #     clean_docs.append(stemming)\n",
    "\n",
    "    # print(\"{} \\n {}\".format(files,clean_docs))\n",
    "    # print(\"{} \\n {} \".format(files,fileOpen))\n",
    "    # print(filedir[i])"
   ]
  },
  {
   "cell_type": "code",
   "execution_count": null,
   "metadata": {},
   "outputs": [],
   "source": [
    "from sklearn.feature_extraction.text import TfidfVectorizer\n",
    "import pandas as pd\n",
    "import numpy as np\n"
   ]
  },
  {
   "cell_type": "code",
   "execution_count": null,
   "metadata": {},
   "outputs": [],
   "source": [
    "# tfidf_vector = TfidfVectorizer()\n",
    "# for filename in listFile:\n",
    "\n",
    "#     wm = tfidf_vector.fit_transform(indoToken)\n",
    "# term = tfidf_vector.get_feature_names_out()\n",
    "\n",
    "# vect = pd.DataFrame(data=wm,columns=term)\n",
    "\n",
    "# # print(type(term))"
   ]
  },
  {
   "cell_type": "code",
   "execution_count": 36,
   "metadata": {},
   "outputs": [
    {
     "name": "stdout",
     "output_type": "stream",
     "text": [
      "['kotonoha no niwa anggap bagai film romantis dan drama film ini buka dengan awal musim hujan di tokyo dengan takao akizuki akizuki takao orang siswa sma usia 15 tahun yang cita jadi buat sepatu ia pilih bolos pada kelas pertama dan buat sketsa sepatu di taman di shinjuku gyoen ia kemudian temu dengan yukari yukino yukino yukari orang wanita usia 27 tahun yang bolos kerja dan sedang nikmat bir dan cokelat di taman sebut ketika yukari lihat lambang sekolah di seragam takao ia ucap selamat tinggal pada dengan tanka bentuk puisi jepang tinggal takao dalam bingung dua terus temu satu sama lain dan obrol di taman pada pagi hari yang hujan tetapi tidak pernah cara resmi kenal diri telah yukari ungkap tari pada terampil takao dalam buat sepatu takao putus untuk buat pasang sepatu dengan ukur yang sesuai dengan akhir musim hujan takao henti unjung taman dan fokus pada kerja dengan akhir musim hujan takao juga henti unjung taman dan fokus pada kerja telah libur musim panas takao kembali ke sekolah dan tak sengaja lihat yukari teman memberitahunya bahwa ia adalah orang guru sastra dan telah jadi target gosip dan tindas karena baik dan untuk hindar konfrontasi lebih lanjut yukari pilih untuk hindar dari kerja dan asing diri di taman harap dapat ajar untuk atas takut dan dapat jalan lagi namun akhir yukari henti dari kerja dan tinggal sekolah sore itu takao temu yukari di taman dan sambut dengan baca puisi ke 2 514 dari koleksi puisi jepang man y sh jawab yang benar untuk tanka-nya yang ia temu dalam buku teks sastra jepang klasik telah basah kuyup oleh badai dua pergi ke apartemen yukari dan habis sore sama ketika takao aku cinta telah makan malam yukari tampak haru tetapi kemudian ingat bahwa ia adalah orang guru dan kata kepada bahwa ia akan kembali ke kota asal di shikoku dengar hal itu takao kemudian pamit pulang yukari sadar salah dan kejar temu takao di tangga masih kesal takao yang sedang marah cabut apa yang telah ia kata dan kritik karena begitu tutup dan tidak pernah buka diri yukari peluk dan dua menang yukari jelas bahwa sama mereka di taman telah selamat credit show tunjuk bahwa takao nyaris tidak lulus uji akhir tetapi masih kerja demi capai tuju sementara yukari kembali ke shikoku dan lanjut karier ajar di adegan post-credit takao kembali unjung taman pada musim dingin baca surat dari yukari tempat hasil karya sepatu untuk yukari di atas bangku dan janji akan temu telah ia buat maju dalam karier', 'children who chase lost voices bahasa jepang hepburn hoshi o ou kodomo harfiah anak yang kejar suara yang hilang adalah buah film animasi jepang produksi tahun 2011 tema tualang fantasi untuk remaja yang tulis dan sutradara oleh makoto shinkai dan produksi oleh comix wave films ancang tokoh dalam film ini kerja oleh takayo nishimura dan gubah musik buat oleh tenmon arah seni animasi laku tanji takumi children who chase lost voices distribusi oleh senta filmworks dan rilis di jepang pada 7 mei 2011 children who chase lost voices juga siar di toonami pada 5 november 2016 yang jadi bagai film animasi jepang pertama sejak 2014 yang siar di toonami kerja pertama makoto shinkai yang siar di toonami dan judul tiga dari senta filmworks yang siar di toonami film ini hasil dapat enam nominasi dari beberapa ajang nama serta menang tokyo anime award 2012 atas best art direction oleh takumi tanji asuna watase adalah siswi sekolah tengah ayah tinggal ketika ia masih muda dan ibu kerja dengan sif panjang bagai orang awat meski jadi siswa yang unggul di sekolah dan pandai dalam laku tugas rumah tangga ia masih punya waktu untuk datang ke tempat sembunyi rahasia di puncak bukit dan guna kristal unik yang tinggal ayah untuk dengar stasiun radio dia kemudian dengar melodi aneh yang selalu sama dekat dengan hati hidup ubah ketika dia temu dengan makhluk seperti beruang lalu ia selamat oleh orang bishonen nama shun yang guna jenis kristal yang sama dengan yang guna asuna shun ungkap baik diri maupun jenis beruang sebut bukan asa dari bumi namun balik asal dai agartha dunia bawah tanah tempat ladang subur mekar dan tempat monster agung liar mereka habis waktu sama namun sebentar saja shun kemudian tinggal dunia buat asuna rasa rindu pada tidak lama belum itu orang guru ganti di sekolah ryuuji morisaki bahas legenda izanagi dan izanami di kelas yang tarik minat asuna dia unjung di hari itu untuk ajar lebih banyak yang pada akhir ryuuji tuju untuk tani asuna dalam jalan ke agartha', 'suzume iwato adalah orang gadis sma usia 17 tahun yang tinggal sama bibi di buah kota kecil di miyazaki suatu hari dia lihat mimpi waktu dia masih kecil dan cari ibu telah beberapa saat dia bangun suzume kemudian pergi ke sekolah dalam jalan dia temu dengan orang pemuda yang sedang cari daerah lantar di sana dia memberitahunya tentang resor onsen tua karena penasaran dia ikut ke resor itu temu pintu yang diri diam dia buka pintu dan lihat dunia yang beda di dalam dia coba masuk tetapi gagal kemudian dia sandung patung yang kemudian ubah jadi kucing karena takut dia pergi kemudian di sekolah saat makan sama teman jadi gempa kecil lihat kolom merah di dekat resort suzume rasa curiga dan gegas ke resor temu pria yang dia temu belum dia coba tutup pintu sayang dia luka tetapi kemudian dia kembali gegas tutup pintu lihat juang suzume coba bantu dia tutup pintu dengan kunci dan kolom merah itu hilang kemudian pria sebut kenal diri bagai s ta munakata dia jelas bahwa dia harus temu dan kunci pintu di tempat yang tinggal untuk cegah cacing sebab gempa bumi ekor kucing muncul dan ubah sota jadi kursi anak yang duduk marah s ta yang telah ubah wujud jadi kursi kemudian kejar kucing itu ke feri tuju ehime kucing itu pernah jadi batu kunci dan cacing lepas telah keluar di ehime pasang sebut guna tunjuk dari duduk tempat yang nama kucing sebut daijin untuk ikut gempa bumi jadi dan mereka coba tutup pintu di sekolah yang tinggal s ta hilang kunci sehingga dia suruh suzume bayang masa jaya sekolah mereka kunci pintu dan usir cacing di tuju ikut ekor cacing baru muncul di taman hibur yang bengkalai s ta tuntut daijin untuk kembali jadi batu kunci tapi dia tolak ingin main dengan suzume suzume dan sota kunci pintu saat mereka tidur lihat bahwa s ta hilang asa diri dalam bentuk kursi suzume dan s ta pergi ke apartemen s ta di tokyo dia memberitahunya mitos namazu dan bahwa batu kunci utama hilang jika cacing tokyo muncul jepang akan hancur keluarga pasti pintu tetap kunci dan dia tanggung beban dari kakek yang rawat di rumah sakit daijin kata sota harus jadi batu kunci baru untuk henti cacing sebut telah temu cacing sebut sota ubah jadi batu kunci di tangan suzume karena gempa akan bunuh banyak orang suzume dengan linang air mata segel cacing itu dengan batu kunci dia bangun di buah gua di mana dia temu pintu tokyo di dunia mimpi dia lihat batu kunci sota kakek s ta kata dia harus temu pintu pertama yang dia masuk untuk kembali ke dunia mimpi dan selamat s ta suzume mulai jalan kembali ke kampung halaman di t hoku yang hancur dalam tsunami t hoku 2011 dia gabung dengan bibi tamak daijin dan tomoyo serizawa teman s ta telah tengkar suzume sadar tamak rasuk oleh sadaijin si kucing hitam tamak jadi tidak kendali dan suzume damai dengan belum pasuk ambang pintu dunia penuh cacing dan sota dalam ada diam suzumi tarik keluar dan dia kembali ke wujud manusia namun daijin kembali jadi batu kunci bagai hasil untuk henti cacing s ta doa dan kembali ingat kampung halaman suzume sadaijin kemudian juga ubah jadi batu suzume dan s ta segel cacing dan bawa damai ke dunia mimpi s ta kemudian perhati orang anak suzume dari 12 tahun lalu suzume ingat pertama kali dia pasuk dunia mimpi diri yang lebih muda telah bingung diri yang lebih tua untuk ibu dia beri kursi itu kepada suzume muda dan cerita tentang masa depan suzume dan s ta kemudian tinggal dunia mimpi dan s ta kembali ke tokyo sementara suzume kembali ke kyushu kemudian suzume sedang dalam jalan ke sekolah ketika dia lihat s ta jalan di jalan yang pertama kali mereka temu', 'weathering with you latar di jepang yang landa cuaca hujan yang sangat deras film ini kisah tentang hodaka morishima orang remaja sma yang pergi ke tokyo dan teman dengan orang anak gadis yatim nama hina amano yang mampu manipulasi cuaca film ini produksi oleh comix wave films genki kawamura dan story inc sementara musik cipta oleh radwimps film ini tayang di jepang pada tanggal 19 juli 2019 buah adaptasi novel yang tulis oleh shinkai terbit pada tanggal 18 juli 2019 hari belum tayang film novel sebut rupa salah satu karya orisinal buah adaptasi manga yang ilustrasi oleh watari bota mulai muat seri dalam majalah afternoon terbit kodansha pada tanggal 25 juli enam hari telah film ini terbit film ini pilih bagai wakil jepang untuk film internasional baik pada acara academy awards ke-92 jepang sedang alami periode cuaca yang sangat buruk orang gadis remaja nama hina amano lihat sinar matahari di buah kuil rusak di atas buah bangun bobrok saat rawat ibu yang sedang sekarat dia tinggal sisi tempat tidur ibu dan pergi ke kuil lintas gerbang kuil sebut dan tubuh tiba pindah ke dunia di atas langit siswa baru sma nama hodaka morishima lari diri dari rumah di buah pulau pencil dan pindah ke tokyo dalam jalan ia hampir tenggelam karena badai hujan keri yang hantam kapal feri yang tumpang tetapi selamat oleh orang pria nama keisuke suga yang beri kartu nama pada hodaka di tokyo hodaka sulit untuk hidup diri sendiri karena usia terlalu muda untuk kerja cara legal dia sempat temu dengan hina ketika dia makan di restoran cepat saji tempat hina kerja hina yang rasa kasihan beri makan gratis karena hodaka sudah makan di sana lama tiga malam turut meski demikian hodaka banyak jalan hari dalam sendiri belum akhir temu kerja bagai asisten untuk buah usaha terbit kecil yang spesial dalam artikel tentang legenda urban sama suga pria yang temu di kapal feri hodaka akhir temu kembali dengan hina dan tahu bahwa dia milik kuat untuk cipta cuaca cerah untuk jangka waktu yang singkat sama dengan adik hina nama nagi mereka tiga mulai bisnis dengan guna mampu misterius hina kepada orang yang ingin langit cerah untuk acara tentu sementara itu suga dan asisten yang lain orang wanita muda nama natsumi selidik legenda urban di sekitar gadis misterius yang dapat buat cuaca hujan ubah jadi sinar matahari hodaka mulai jatuh cinta pada hina tetapi kuat hina simpan rahasia tragis yang akan ubah kota tokyo serta cuaca untuk lama', 'mitsuha miyamizu orang siswi sekolah tengah atas yang tinggal di desa fiktif nama itomori di daerah gunung hida prefektur gifu mulai bosan dengan hidup di desa tempat dia lahir dan harap dapat lahir jadi pemuda tampan yang hidup di tokyo pada hidup lanjut kemudian taki tachibana orang siswa sekolah tengah atas yang tinggal di tokyo bangun dari tidur dan sadar bahwa diri adalah mitsuha yang entah bagaimana bisa masuk ke dalam tubuh taki taki dan mitsuha sadar bahwa mereka dua saling pasuk tubuh satu sama lain mereka mulai komunikasi satu sama lain dengan saling tinggal catat di kertas maupun lalu memo di ponsel mereka iring dengan jalan waktu mereka makin biasa dengan tukar tubuh ini serta mulai campur hidup satu sama lain mitsuha bantu taki untuk jalin hubung dengan orang wanita rekan kerja yang nama mik okudera sehingga akhir taki dapat kencan dengan mik sementara itu taki bantu mitsuha agar lebih kenal di sekolah mitsuha kemudian memberitahu taki kena buah komet yang ramal akan lintas dekat bumi dalam beberapa hari datang dan betapa tarik diri untuk dapat lihat karena waktu tepat dengan festival di desa itomori pada suatu saat nenek dari mitsuha tanya kepada taki yang ada di dalam tubuh mitsuha kamu masih mimpi kan dan cerita bahwa turun miyamizu terkadang alami mimpi tentang hidup orang lain esok taki tiba kembali bangun di tubuh sendiri saat temu dengan mik kencan akhir gagal mik tinggal taki kata bahwa diri sadar bahwa ada orang lain yang pikir oleh taki semenjak itu taki dan mitsuha tidak pernah tukar tubuh lagi taki kemudian coba hubung mitsuha namun tidak hasil dia akhir putus untuk temu mitsuha cara langsung dengan unjung tempat lahir tanpa tahu apa nama desa mitsuha dan di mana lokasi taki laku jalan ke bagai daerah di hida dengan hanya andal sketsa pandang desa yang dia lukis dasar ingat akhir di buah restoran yang dia kunjung sama mik dan teman sekolah tsukasa fujii orang layan nali sketsa taki bagai desa itomori dan kata bahwa desa sebut dahulu sangat indah namun kini desa sebut dan wilayah di sekitar telah hancur serta jadi kawah raksasa karena hantam pecah komet tiamat yang jatuh tiga tahun lalu saat baca catat jadi taki sadar bahwa jadi ini telah tewas tiga duduk taki juga temu nama mitsuha dan juga dua teman katsuhiko teshigawara dan sayaka natori yang tera dalam daftar korban taki kemudian antar oleh layan sebut tuju lokasi kawah di sana taki cari memo yang pernah mitsuha buat pada ponselnya untuk pasti bahwa diri tidak sedang mimpi namun nyata semua telah hilang usaha agar dapat hubung kembali dengan mitsuha taki kemudian berani diri untuk pergi orang diri ke kuil keluarga mitsuha yang letak di buah gunung dekat itomori sadar bahwa linimasa diri dan mitsuha benar paut beberapa tahun lama ini taki minum kuchikami-zake jenis arak beras yang buat dengan cara kunyah nasi di dalam mulut yang pernah buat oleh mitsuha saat jalan tradisi gadis kuil dan tinggal di dalam kuil sebut bagai sembah dia harap dapat hubung kembali dengan tubuh mitsuha belum komet hantam taki hasil bangun di tubuh mitsuha pada pagi hari belum festival dan sadar bahwa dia masih punya waktu untuk selamat desa sebut dia yakin teman mitsuha perihal komet sebut dan minta bantu mereka untuk evakuasi desa sambil jalan rencana taki sadar bahwa mitsuha juga usaha cari dengan naik kereta api ke tokyo dan mungkin kini mitsuha sedang ada di tubuh di dalam kuil taki kemudian unjung kembali gunung tempat kuil sebut ada untuk temu mitsuha belum mitsuha tidak dapat temu taki di tokyo dan kembali ke desa dengan asa sedih dalam jalan mitsuha kemudian temu dan nali taki namun karena linimasa diri benar ada di masa lampau taki tidak dapat kenal kini mitsuha bangun kembali dalam tubuh taki yang ada di dalam kuil keluarga lalu naik ke puncak gunung taki pun sudah tiba di puncak gunung meski mereka dapat rasa ada satu sama lain mereka tidak dapat saling lihat satu sama lain karena ada di masa yang beda saat matahari mulai benam baik taki dan mitsuha sadar bahwa ini adalah waktu kataware a sehingga mereka kembali ke tubuh masing-masing dan dapat saling lihat satu sama lain taki ingat mitsuha untuk yakin ayah yang rupa wali kota itomori untuk evakuasi seluruh desa mereka juga putus untuk saling tulis nama mereka di tangan mereka agar mereka tidak lupa ketika kembali ke linimasa asli mereka masing-masing telah matahari benam belum mitsuha sempat tulis nama matahari sudah benam dan mereka kembali pisah iring dengan jalan waktu ingat mereka perlahan mulai hilang dan pada akhir mereka tidak dapat lagi ingat nama satu sama lain serta peristiwa yang telah mereka alami dalam upaya akhir mitsuha buka telapak tangan dan sadar yang taki tulis bukan nama tapi aku cinta dengan penuh yakin dan semangat baru mitsuha kembali temu ayah belum pecah komet jatuh dan hantam itomori']\n"
     ]
    }
   ],
   "source": [
    "listEmo = []\n",
    "\n",
    "\n",
    "print(clean_docs)\n",
    "\n",
    "\n",
    "# print(clean_docs[0])\n",
    "\n",
    "    "
   ]
  },
  {
   "cell_type": "code",
   "execution_count": null,
   "metadata": {},
   "outputs": [],
   "source": [
    "print(listFile)"
   ]
  },
  {
   "cell_type": "code",
   "execution_count": null,
   "metadata": {},
   "outputs": [],
   "source": [
    "print(vect)"
   ]
  },
  {
   "cell_type": "code",
   "execution_count": null,
   "metadata": {},
   "outputs": [],
   "source": [
    "# from Sastrawi.Stemmer.StemmerFactory import StemmerFactory\n",
    "\n",
    "# lst = []\n",
    "# final = []\n",
    "# stemmer = StemmerFactory()\n",
    "# idn_stemmer = stemmer.create_stemmer()\n",
    "# for files in listFile:\n",
    "#     for i in listFile:\n",
    "#         files = open(dir+i,'r').read()\n",
    "#         splitText =  files.split(\"\\n\")\n",
    "#         lst.append(splitText)\n",
    "#     for x in lst:\n",
    "#         for i in x:\n",
    "#             content = idn_stemmer.stem(str.lower(i))\n",
    "#             final.append(content)\n",
    "    \n",
    "#     indoToken = []\n",
    "#     for words in tokenizedWords:\n",
    "#         if words not in stopword:\n",
    "#             indoToken.append(words)\n",
    "#     wordFreq = FreqDist(indoToken)\n",
    "\n",
    "#     for fileName in listFile:\n",
    "#         filedir[fileName] = {}  \n",
    "\n",
    "#         for terms,freq in wordFreq.most_common(10):\n",
    "#             filedir[fileName][terms] = [freq][0]\n",
    "\n",
    "\n",
    "# tokenizedWords = regex.tokenize(final)\n",
    "# print(tokenizedWords)\n",
    "\n",
    "        "
   ]
  }
 ],
 "metadata": {
  "kernelspec": {
   "display_name": "Python 3",
   "language": "python",
   "name": "python3"
  },
  "language_info": {
   "codemirror_mode": {
    "name": "ipython",
    "version": 3
   },
   "file_extension": ".py",
   "mimetype": "text/x-python",
   "name": "python",
   "nbconvert_exporter": "python",
   "pygments_lexer": "ipython3",
   "version": "3.10.11"
  },
  "orig_nbformat": 4
 },
 "nbformat": 4,
 "nbformat_minor": 2
}
